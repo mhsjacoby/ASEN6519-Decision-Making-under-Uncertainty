{
 "cells": [
  {
   "cell_type": "code",
   "execution_count": 1,
   "metadata": {},
   "outputs": [],
   "source": [
    "import gym\n",
    "import math\n",
    "import random\n",
    "import numpy as np\n",
    "import matplotlib\n",
    "import matplotlib.pyplot as plt\n",
    "from collections import namedtuple\n",
    "from itertools import count\n",
    "from PIL import Image"
   ]
  },
  {
   "cell_type": "code",
   "execution_count": 7,
   "metadata": {},
   "outputs": [
    {
     "name": "stdout",
     "output_type": "stream",
     "text": [
      "importing from julia...\n",
      "defining env...\n"
     ]
    }
   ],
   "source": [
    "from julia.api import Julia\n",
    "jl = Julia(compiled_modules=False)\n",
    "\n",
    "print(\"importing from julia...\")\n",
    "from julia.DMUStudent.HW4 import mc, gw\n",
    "from julia.RLInterface import *\n",
    "from julia.Base import deepcopy\n",
    "\n",
    "print(\"defining env...\")\n",
    "import gym\n",
    "from gym.spaces import Box, Discrete"
   ]
  },
  {
   "cell_type": "code",
   "execution_count": 5,
   "metadata": {},
   "outputs": [],
   "source": [
    "import torch\n",
    "import torch.nn as nn\n",
    "import torch.optim as optim\n",
    "import torch.nn.functional as F\n",
    "import torchvision.transforms as T"
   ]
  },
  {
   "cell_type": "code",
   "execution_count": 9,
   "metadata": {},
   "outputs": [],
   "source": [
    "class MCEnv(gym.Env):\n",
    "    def __init__(self, jlenv):\n",
    "        self.jlenv = jlenv\n",
    "\n",
    "    def step(self, a):\n",
    "        # if you use a continuous action space it will come in a vector\n",
    "        # assert len(a) == 1\n",
    "        # return step_b(self.jlenv, a[0])\n",
    "\n",
    "        # decode discrete actions\n",
    "        jl_act = [-1.0, 0.0, 1.0][a]\n",
    "        s, r, done, info = step_b(self.jlenv, jl_act)\n",
    "        pyinfo = {\"episode\": True}\n",
    "        return s, r, done, pyinfo\n",
    "\n",
    "    def reset(self):\n",
    "        return reset_b(self.jlenv)\n",
    "\n",
    "    @property\n",
    "    def observation_space(self):\n",
    "        return Box(low=-1.0, high=1.0, shape=(2,))\n",
    "\n",
    "    @property\n",
    "    def action_space(self):\n",
    "        # if you want a continuous action space, use a box\n",
    "        # return Box(low=-1.0, high=1.0, shape=(1,))\n",
    "        return Discrete(3)"
   ]
  },
  {
   "cell_type": "code",
   "execution_count": 11,
   "metadata": {},
   "outputs": [],
   "source": [
    "env = MCEnv(deepcopy(mc))"
   ]
  },
  {
   "cell_type": "code",
   "execution_count": 12,
   "metadata": {},
   "outputs": [],
   "source": [
    "is_ipython = 'inline' in matplotlib.get_backend()\n",
    "if is_ipython:\n",
    "    from IPython import display\n",
    "\n",
    "plt.ion()\n"
   ]
  },
  {
   "cell_type": "code",
   "execution_count": 13,
   "metadata": {},
   "outputs": [],
   "source": [
    "device = torch.device(\"cpu\")"
   ]
  },
  {
   "cell_type": "code",
   "execution_count": null,
   "metadata": {},
   "outputs": [],
   "source": []
  }
 ],
 "metadata": {
  "kernelspec": {
   "display_name": "Python 3",
   "language": "python",
   "name": "python3"
  },
  "language_info": {
   "codemirror_mode": {
    "name": "ipython",
    "version": 3
   },
   "file_extension": ".py",
   "mimetype": "text/x-python",
   "name": "python",
   "nbconvert_exporter": "python",
   "pygments_lexer": "ipython3",
   "version": "3.7.4"
  }
 },
 "nbformat": 4,
 "nbformat_minor": 2
}

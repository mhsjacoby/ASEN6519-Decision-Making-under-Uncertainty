{
 "cells": [
  {
   "cell_type": "code",
   "execution_count": 5,
   "metadata": {},
   "outputs": [
    {
     "ename": "ArgumentError",
     "evalue": "ArgumentError: Package POMDPModels not found in current path:\n- Run `import Pkg; Pkg.add(\"POMDPModels\")` to install the POMDPModels package.\n",
     "output_type": "error",
     "traceback": [
      "ArgumentError: Package POMDPModels not found in current path:\n- Run `import Pkg; Pkg.add(\"POMDPModels\")` to install the POMDPModels package.\n",
      "",
      "Stacktrace:",
      " [1] require(::Module, ::Symbol) at ./loading.jl:887",
      " [2] top-level scope at In[5]:2"
     ]
    }
   ],
   "source": [
    "using POMDPs\n",
    "using POMDPModels\n",
    "using TabularTDLearning\n",
    "using POMDPPolicies\n",
    "using RLInterface\n",
    "using IJulia\n",
    "using POMDPModelTools\n",
    "IJulia.clear_output(true)\n",
    "\n"
   ]
  },
  {
   "cell_type": "code",
   "execution_count": 4,
   "metadata": {},
   "outputs": [
    {
     "ename": "UndefVarError",
     "evalue": "UndefVarError: SimpleGridWorld not defined",
     "output_type": "error",
     "traceback": [
      "UndefVarError: SimpleGridWorld not defined",
      "",
      "Stacktrace:",
      " [1] top-level scope at In[4]:1"
     ]
    }
   ],
   "source": [
    "m = SimpleGridWorld();\n",
    "env = MDPEnvironment(m, GWPos);\n",
    "const Q = zeros(length(states(m)), length(actions(m)));"
   ]
  },
  {
   "cell_type": "code",
   "execution_count": null,
   "metadata": {},
   "outputs": [],
   "source": [
    "function run_episode!(Q; α=0.1, ϵ=0.1, show=false, max_t=200)\n",
    "    A = actions(m)\n",
    "    done = false\n",
    "    rsum = 0.0\n",
    "    s = reset!(env)\n",
    "    t = 1\n",
    "    γ = 0.95\n",
    "    while t <= max_t\n",
    "        si = stateindex(m, s)\n",
    "        \n",
    "        # select action (eps greedy)\n",
    "        if rand() < ϵ\n",
    "            a = rand(A)\n",
    "        else\n",
    "            a = A[argmax(Q[si, :])]\n",
    "        end\n",
    "        ai = actionindex(m, a)\n",
    "        \n",
    "        sp, r, done, info = step!(env, a)\n",
    "       \n",
    "        rsum += γ^t*r\n",
    "        \n",
    "        spi = stateindex(m, sp)\n",
    "        Q[si,ai] += α * (r + γ * maximum(Q[spi,:]) - Q[si,ai])\n",
    "        \n",
    "        if done\n",
    "            break\n",
    "        end\n",
    "        \n",
    "        if show\n",
    "            IJulia.clear_output(true)\n",
    "            display(POMDPModelTools.render(m, (s=s,),\n",
    "                color=s->maximum(Q[stateindex(m, s),:]),\n",
    "                policy=ValuePolicy(m, Q)\n",
    "            ))\n",
    "        end\n",
    "        \n",
    "        s = sp\n",
    "        t += 1\n",
    "    end\n",
    "    return rsum\n",
    "end"
   ]
  },
  {
   "cell_type": "code",
   "execution_count": null,
   "metadata": {},
   "outputs": [],
   "source": [
    "run_episode!(Q, show=true, ϵ=0.9, max_t=20)"
   ]
  },
  {
   "cell_type": "code",
   "execution_count": null,
   "metadata": {},
   "outputs": [],
   "source": [
    "for i in 1:10000\n",
    "    run_episode!(Q)\n",
    "end\n",
    "@show run_episode!(Q)"
   ]
  },
  {
   "cell_type": "code",
   "execution_count": null,
   "metadata": {},
   "outputs": [],
   "source": [
    "display(POMDPModelTools.render(m, NamedTuple(),\n",
    "                color=s->maximum(Q[stateindex(m, s),:]),\n",
    "                policy=ValuePolicy(m, Q)\n",
    "            ))"
   ]
  }
 ],
 "metadata": {
  "kernelspec": {
   "display_name": "Julia 1.3.1",
   "language": "julia",
   "name": "julia-1.3"
  },
  "language_info": {
   "file_extension": ".jl",
   "mimetype": "application/julia",
   "name": "julia",
   "version": "1.3.1"
  }
 },
 "nbformat": 4,
 "nbformat_minor": 2
}
